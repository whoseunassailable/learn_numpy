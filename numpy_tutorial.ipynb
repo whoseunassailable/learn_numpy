{
 "cells": [
  {
   "cell_type": "markdown",
   "metadata": {},
   "source": [
    "#### Load numpy"
   ]
  },
  {
   "cell_type": "code",
   "execution_count": 494,
   "metadata": {},
   "outputs": [],
   "source": [
    "import numpy as np"
   ]
  },
  {
   "cell_type": "markdown",
   "metadata": {},
   "source": [
    "#### The basics"
   ]
  },
  {
   "cell_type": "markdown",
   "metadata": {},
   "source": [
    "#### One dimensional"
   ]
  },
  {
   "cell_type": "code",
   "execution_count": 495,
   "metadata": {},
   "outputs": [
    {
     "name": "stdout",
     "output_type": "stream",
     "text": [
      "[1 2 3]\n"
     ]
    }
   ],
   "source": [
    "a = np.array([1, 2, 3])\n",
    "print(a)"
   ]
  },
  {
   "cell_type": "markdown",
   "metadata": {},
   "source": [
    "#### Two dimensional"
   ]
  },
  {
   "cell_type": "code",
   "execution_count": 496,
   "metadata": {},
   "outputs": [
    {
     "data": {
      "text/plain": [
       "array([[1, 2, 3],\n",
       "       [4, 5, 6]])"
      ]
     },
     "execution_count": 496,
     "metadata": {},
     "output_type": "execute_result"
    }
   ],
   "source": [
    "b = np.array([[1, 2, 3],[4, 5, 6]])\n",
    "b"
   ]
  },
  {
   "cell_type": "markdown",
   "metadata": {},
   "source": [
    "#### Get the dimensions of the array"
   ]
  },
  {
   "cell_type": "code",
   "execution_count": 497,
   "metadata": {},
   "outputs": [
    {
     "data": {
      "text/plain": [
       "2"
      ]
     },
     "execution_count": 497,
     "metadata": {},
     "output_type": "execute_result"
    }
   ],
   "source": [
    "b.ndim"
   ]
  },
  {
   "cell_type": "markdown",
   "metadata": {},
   "source": [
    "#### Shape of the array"
   ]
  },
  {
   "cell_type": "code",
   "execution_count": 498,
   "metadata": {},
   "outputs": [
    {
     "data": {
      "text/plain": [
       "(2, 3)"
      ]
     },
     "execution_count": 498,
     "metadata": {},
     "output_type": "execute_result"
    }
   ],
   "source": [
    "b.shape # will output (2, 3) which means it has 2 rows and then 3 columns"
   ]
  },
  {
   "cell_type": "code",
   "execution_count": 499,
   "metadata": {},
   "outputs": [
    {
     "data": {
      "text/plain": [
       "dtype('int64')"
      ]
     },
     "execution_count": 499,
     "metadata": {},
     "output_type": "execute_result"
    }
   ],
   "source": [
    "a.dtype"
   ]
  },
  {
   "cell_type": "markdown",
   "metadata": {},
   "source": [
    "#### So by default the size of an array is 8 byte or int32. This is something we can change while defining the array"
   ]
  },
  {
   "cell_type": "code",
   "execution_count": 500,
   "metadata": {},
   "outputs": [],
   "source": [
    "a = np.array([1, 4, 6], dtype = 'int32')\n"
   ]
  },
  {
   "cell_type": "code",
   "execution_count": 501,
   "metadata": {},
   "outputs": [
    {
     "data": {
      "text/plain": [
       "dtype('int32')"
      ]
     },
     "execution_count": 501,
     "metadata": {},
     "output_type": "execute_result"
    }
   ],
   "source": [
    "a.dtype"
   ]
  },
  {
   "cell_type": "code",
   "execution_count": 502,
   "metadata": {},
   "outputs": [
    {
     "data": {
      "text/plain": [
       "array([[ 1,  2,  3,  4,  5,  6],\n",
       "       [ 7,  8,  9, 10, 11, 12]])"
      ]
     },
     "execution_count": 502,
     "metadata": {},
     "output_type": "execute_result"
    }
   ],
   "source": [
    "new_array = np.array([[1, 2, 3, 4, 5, 6], [7, 8, 9, 10, 11, 12]])\n",
    "new_array"
   ]
  },
  {
   "cell_type": "markdown",
   "metadata": {},
   "source": [
    "#### Get specific value"
   ]
  },
  {
   "cell_type": "code",
   "execution_count": 503,
   "metadata": {},
   "outputs": [
    {
     "data": {
      "text/plain": [
       "10"
      ]
     },
     "execution_count": 503,
     "metadata": {},
     "output_type": "execute_result"
    }
   ],
   "source": [
    "new_array[1, 3]"
   ]
  },
  {
   "cell_type": "markdown",
   "metadata": {},
   "source": [
    "#### Get a specific row"
   ]
  },
  {
   "cell_type": "code",
   "execution_count": 504,
   "metadata": {},
   "outputs": [
    {
     "data": {
      "text/plain": [
       "array([1, 2, 3, 4, 5, 6])"
      ]
     },
     "execution_count": 504,
     "metadata": {},
     "output_type": "execute_result"
    }
   ],
   "source": [
    "new_array[0, :] # getting the first row"
   ]
  },
  {
   "cell_type": "markdown",
   "metadata": {},
   "source": [
    "#### Get a specific column"
   ]
  },
  {
   "cell_type": "code",
   "execution_count": 505,
   "metadata": {},
   "outputs": [
    {
     "data": {
      "text/plain": [
       "array([2, 8])"
      ]
     },
     "execution_count": 505,
     "metadata": {},
     "output_type": "execute_result"
    }
   ],
   "source": [
    "new_array[ : , 1]"
   ]
  },
  {
   "cell_type": "markdown",
   "metadata": {},
   "source": [
    "#### Let's do some fun activity\n",
    "1. Import random \n",
    "2. Generate 2 numbers\n",
    "4. Now use that to define the shape of the array\n",
    "5. Get the size of the array\n",
    "6. Generate those many numbers\n",
    "7. Fill the dimensions with those numbers"
   ]
  },
  {
   "cell_type": "code",
   "execution_count": 506,
   "metadata": {},
   "outputs": [
    {
     "data": {
      "text/plain": [
       "(3364, 5)"
      ]
     },
     "execution_count": 506,
     "metadata": {},
     "output_type": "execute_result"
    }
   ],
   "source": [
    "import random\n",
    "no_of_rows = random.randint(1000, 5349) # at least 1000 rows and can be upto 5349 for now\n",
    "no_of_columns = random.randint(5, 20) # at least 5 columns and can be upto 20 for now\n",
    "random_array = np.zeros((no_of_rows, no_of_columns), dtype=int)\n",
    "random_array.shape\n"
   ]
  },
  {
   "cell_type": "code",
   "execution_count": 507,
   "metadata": {},
   "outputs": [],
   "source": [
    "for i in range(no_of_rows):\n",
    "    for j in range(no_of_columns):\n",
    "        random_array[i][j] = random.randint(0, 1001)"
   ]
  },
  {
   "cell_type": "code",
   "execution_count": 508,
   "metadata": {},
   "outputs": [
    {
     "data": {
      "text/plain": [
       "array([[822, 820, 350, 461,  85],\n",
       "       [466, 264,  90, 564, 237],\n",
       "       [290, 617, 376, 130, 214],\n",
       "       ...,\n",
       "       [315, 423, 668, 652, 918],\n",
       "       [955, 659, 809, 888, 975],\n",
       "       [525, 957, 323, 199,  36]])"
      ]
     },
     "execution_count": 508,
     "metadata": {},
     "output_type": "execute_result"
    }
   ],
   "source": [
    "random_array"
   ]
  },
  {
   "cell_type": "markdown",
   "metadata": {},
   "source": [
    "##### Now get a specific row"
   ]
  },
  {
   "cell_type": "code",
   "execution_count": 509,
   "metadata": {},
   "outputs": [
    {
     "data": {
      "text/plain": [
       "array([338, 737, 811, 578, 286])"
      ]
     },
     "execution_count": 509,
     "metadata": {},
     "output_type": "execute_result"
    }
   ],
   "source": [
    "random_array[12, :] # we can verify if this is right by checking the no of columns"
   ]
  },
  {
   "cell_type": "markdown",
   "metadata": {},
   "source": [
    "#### Get a specific column"
   ]
  },
  {
   "cell_type": "code",
   "execution_count": 510,
   "metadata": {},
   "outputs": [
    {
     "name": "stdout",
     "output_type": "stream",
     "text": [
      "It consists of 3364 values\n",
      "[ 85 237 214 ... 918 975  36]\n"
     ]
    }
   ],
   "source": [
    "if random_array.shape[1] >= 1:\n",
    "    column_values = random_array[ : , random_array.shape[1] - 1] # getting the last column values\n",
    "    print(f\"It consists of {column_values.shape[0]} values\")\n",
    "    print(column_values)"
   ]
  },
  {
   "cell_type": "markdown",
   "metadata": {},
   "source": [
    "#### Getting a little fancy\n",
    "#### [startindex : endindex : stepsize]"
   ]
  },
  {
   "cell_type": "code",
   "execution_count": 511,
   "metadata": {},
   "outputs": [
    {
     "data": {
      "text/plain": [
       "array([350,  85])"
      ]
     },
     "execution_count": 511,
     "metadata": {},
     "output_type": "execute_result"
    }
   ],
   "source": [
    "# here 2 is the start index for the row and then 10 is the endindex which might be not available and then 2 stepsize means every other element\n",
    "random_array[0, 2:10:2]"
   ]
  },
  {
   "cell_type": "markdown",
   "metadata": {},
   "source": [
    "#### Changing the value at a particular index"
   ]
  },
  {
   "cell_type": "code",
   "execution_count": 512,
   "metadata": {},
   "outputs": [],
   "source": [
    "random_array[1, 1] = 5"
   ]
  },
  {
   "cell_type": "code",
   "execution_count": 513,
   "metadata": {},
   "outputs": [
    {
     "data": {
      "text/plain": [
       "5"
      ]
     },
     "execution_count": 513,
     "metadata": {},
     "output_type": "execute_result"
    }
   ],
   "source": [
    "random_array[1, 1]"
   ]
  },
  {
   "cell_type": "code",
   "execution_count": 514,
   "metadata": {},
   "outputs": [
    {
     "data": {
      "text/plain": [
       "array([[[ 1,  2],\n",
       "        [ 3,  4]],\n",
       "\n",
       "       [[ 4, 16],\n",
       "        [64, 34]]])"
      ]
     },
     "execution_count": 514,
     "metadata": {},
     "output_type": "execute_result"
    }
   ],
   "source": [
    "three_d_array = np.array([[[1, 2], [3, 4]], [[4, 16], [64, 34]]])\n",
    "three_d_array"
   ]
  },
  {
   "cell_type": "markdown",
   "metadata": {},
   "source": [
    "#### Accessing a 3d-element. Let's say if we want to access 64, then"
   ]
  },
  {
   "cell_type": "code",
   "execution_count": 515,
   "metadata": {},
   "outputs": [
    {
     "data": {
      "text/plain": [
       "64"
      ]
     },
     "execution_count": 515,
     "metadata": {},
     "output_type": "execute_result"
    }
   ],
   "source": [
    "three_d_array[1, 1, 0] # second array second row and then first column"
   ]
  },
  {
   "cell_type": "code",
   "execution_count": 516,
   "metadata": {},
   "outputs": [
    {
     "data": {
      "text/plain": [
       "array([[[ 1,  2],\n",
       "        [ 3,  4]],\n",
       "\n",
       "       [[ 4, 16],\n",
       "        [64, 34]]])"
      ]
     },
     "execution_count": 516,
     "metadata": {},
     "output_type": "execute_result"
    }
   ],
   "source": [
    "three_d_array"
   ]
  },
  {
   "cell_type": "markdown",
   "metadata": {},
   "source": [
    "#### Replacing values"
   ]
  },
  {
   "cell_type": "code",
   "execution_count": 517,
   "metadata": {},
   "outputs": [],
   "source": [
    "three_d_array[ : , 1, :] = [[1, 2], [4,5]]"
   ]
  },
  {
   "cell_type": "code",
   "execution_count": 518,
   "metadata": {},
   "outputs": [
    {
     "data": {
      "text/plain": [
       "array([[[ 1,  2],\n",
       "        [ 1,  2]],\n",
       "\n",
       "       [[ 4, 16],\n",
       "        [ 4,  5]]])"
      ]
     },
     "execution_count": 518,
     "metadata": {},
     "output_type": "execute_result"
    }
   ],
   "source": [
    "three_d_array"
   ]
  },
  {
   "cell_type": "markdown",
   "metadata": {},
   "source": [
    "#### Initializing Different Types of Arrays"
   ]
  },
  {
   "cell_type": "markdown",
   "metadata": {},
   "source": [
    "#### Initialising a 3-d array with zeros"
   ]
  },
  {
   "cell_type": "code",
   "execution_count": 519,
   "metadata": {},
   "outputs": [
    {
     "data": {
      "text/plain": [
       "array([[[0., 0.],\n",
       "        [0., 0.],\n",
       "        [0., 0.]],\n",
       "\n",
       "       [[0., 0.],\n",
       "        [0., 0.],\n",
       "        [0., 0.]]])"
      ]
     },
     "execution_count": 519,
     "metadata": {},
     "output_type": "execute_result"
    }
   ],
   "source": [
    "np.zeros((2, 3, 2)) # 3-dimension initialiased with zeros"
   ]
  },
  {
   "cell_type": "markdown",
   "metadata": {},
   "source": [
    "#### Initialising a 4-d array with ones"
   ]
  },
  {
   "cell_type": "code",
   "execution_count": 520,
   "metadata": {},
   "outputs": [
    {
     "data": {
      "text/plain": [
       "array([[[[1., 1.],\n",
       "         [1., 1.]],\n",
       "\n",
       "        [[1., 1.],\n",
       "         [1., 1.]],\n",
       "\n",
       "        [[1., 1.],\n",
       "         [1., 1.]]],\n",
       "\n",
       "\n",
       "       [[[1., 1.],\n",
       "         [1., 1.]],\n",
       "\n",
       "        [[1., 1.],\n",
       "         [1., 1.]],\n",
       "\n",
       "        [[1., 1.],\n",
       "         [1., 1.]]]])"
      ]
     },
     "execution_count": 520,
     "metadata": {},
     "output_type": "execute_result"
    }
   ],
   "source": [
    "np.ones((2, 3, 2, 2)) # 4 dimensional"
   ]
  },
  {
   "cell_type": "markdown",
   "metadata": {},
   "source": [
    "##### We can initialise it with any other number as well just need to use the full() function"
   ]
  },
  {
   "cell_type": "code",
   "execution_count": 521,
   "metadata": {},
   "outputs": [
    {
     "data": {
      "text/plain": [
       "array([[[99, 99, 99],\n",
       "        [99, 99, 99]],\n",
       "\n",
       "       [[99, 99, 99],\n",
       "        [99, 99, 99]],\n",
       "\n",
       "       [[99, 99, 99],\n",
       "        [99, 99, 99]]])"
      ]
     },
     "execution_count": 521,
     "metadata": {},
     "output_type": "execute_result"
    }
   ],
   "source": [
    "np.full((3, 2, 3), 99)"
   ]
  },
  {
   "cell_type": "markdown",
   "metadata": {},
   "source": [
    "#### Filling array with random values"
   ]
  },
  {
   "cell_type": "code",
   "execution_count": 522,
   "metadata": {},
   "outputs": [
    {
     "data": {
      "text/plain": [
       "array([[[32, 97],\n",
       "        [44, 32],\n",
       "        [76, 24]],\n",
       "\n",
       "       [[46, 84],\n",
       "        [ 5, 20],\n",
       "        [87, 97]]])"
      ]
     },
     "execution_count": 522,
     "metadata": {},
     "output_type": "execute_result"
    }
   ],
   "source": [
    "new_random_array = np.random.randint(1, 100, size= (2, 3, 2)) # Generating a 3-dimension array with random numbers\n",
    "new_random_array"
   ]
  },
  {
   "cell_type": "markdown",
   "metadata": {},
   "source": [
    "#### Repeating a certain set of elements"
   ]
  },
  {
   "cell_type": "code",
   "execution_count": 523,
   "metadata": {},
   "outputs": [
    {
     "data": {
      "text/plain": [
       "array([1, 1, 1, 2, 2, 2, 3, 3, 3])"
      ]
     },
     "execution_count": 523,
     "metadata": {},
     "output_type": "execute_result"
    }
   ],
   "source": [
    "arr = np.array([1, 2, 3])\n",
    "r1 = np.repeat(arr, 3, axis=0) # repeating the elements in the arr and 3 denotes the number of times we are repeating it\n",
    "r1"
   ]
  },
  {
   "cell_type": "code",
   "execution_count": 524,
   "metadata": {},
   "outputs": [
    {
     "data": {
      "text/plain": [
       "array([[1, 2, 3],\n",
       "       [1, 2, 3],\n",
       "       [1, 2, 3]])"
      ]
     },
     "execution_count": 524,
     "metadata": {},
     "output_type": "execute_result"
    }
   ],
   "source": [
    "arr = np.array([[1, 2, 3]]) # this being 2-dimensional array unlike the first one\n",
    "r1 = np.repeat(arr, 3, axis=0)\n",
    "r1"
   ]
  },
  {
   "cell_type": "markdown",
   "metadata": {},
   "source": [
    "#### Identity Matrix"
   ]
  },
  {
   "cell_type": "code",
   "execution_count": 525,
   "metadata": {},
   "outputs": [
    {
     "data": {
      "text/plain": [
       "array([[1., 0., 0., 0., 0., 0., 0., 0., 0., 0.],\n",
       "       [0., 1., 0., 0., 0., 0., 0., 0., 0., 0.],\n",
       "       [0., 0., 1., 0., 0., 0., 0., 0., 0., 0.],\n",
       "       [0., 0., 0., 1., 0., 0., 0., 0., 0., 0.],\n",
       "       [0., 0., 0., 0., 1., 0., 0., 0., 0., 0.],\n",
       "       [0., 0., 0., 0., 0., 1., 0., 0., 0., 0.],\n",
       "       [0., 0., 0., 0., 0., 0., 1., 0., 0., 0.],\n",
       "       [0., 0., 0., 0., 0., 0., 0., 1., 0., 0.],\n",
       "       [0., 0., 0., 0., 0., 0., 0., 0., 1., 0.],\n",
       "       [0., 0., 0., 0., 0., 0., 0., 0., 0., 1.]])"
      ]
     },
     "execution_count": 525,
     "metadata": {},
     "output_type": "execute_result"
    }
   ],
   "source": [
    "np.identity(10)"
   ]
  },
  {
   "cell_type": "markdown",
   "metadata": {},
   "source": [
    "#### We want to create a array like this below\n",
    "#### [1 1 1 1 1\n",
    "####  1 0 0 0 1\n",
    "####  1 0 9 0 1\n",
    "####  1 0 0 0 1\n",
    "####  1 1 1 1 1 ]"
   ]
  },
  {
   "cell_type": "code",
   "execution_count": 526,
   "metadata": {},
   "outputs": [],
   "source": [
    "##### Logical interpretation\n",
    "##### Initialize a matrix with all ones\n",
    "##### Create another matrix with all zeros minus one row and column size\n",
    "##### Add 9 or the element in the middle\n",
    "##### and then replace this newly created matrix with the inner side of original matrix"
   ]
  },
  {
   "cell_type": "code",
   "execution_count": 527,
   "metadata": {},
   "outputs": [
    {
     "data": {
      "text/plain": [
       "array([[1., 1., 1., 1., 1.],\n",
       "       [1., 1., 1., 1., 1.],\n",
       "       [1., 1., 1., 1., 1.],\n",
       "       [1., 1., 1., 1., 1.],\n",
       "       [1., 1., 1., 1., 1.]])"
      ]
     },
     "execution_count": 527,
     "metadata": {},
     "output_type": "execute_result"
    }
   ],
   "source": [
    "original_array = np.ones((5, 5))\n",
    "original_array"
   ]
  },
  {
   "cell_type": "code",
   "execution_count": 528,
   "metadata": {},
   "outputs": [
    {
     "data": {
      "text/plain": [
       "array([[0., 0., 0.],\n",
       "       [0., 0., 0.],\n",
       "       [0., 0., 0.]])"
      ]
     },
     "execution_count": 528,
     "metadata": {},
     "output_type": "execute_result"
    }
   ],
   "source": [
    "middle_with_zeros = np.zeros((3, 3))\n",
    "middle_with_zeros"
   ]
  },
  {
   "cell_type": "code",
   "execution_count": 529,
   "metadata": {},
   "outputs": [
    {
     "data": {
      "text/plain": [
       "array([[0., 0., 0.],\n",
       "       [0., 9., 0.],\n",
       "       [0., 0., 0.]])"
      ]
     },
     "execution_count": 529,
     "metadata": {},
     "output_type": "execute_result"
    }
   ],
   "source": [
    "middle_with_zeros[1, 1] = 9\n",
    "middle_with_zeros"
   ]
  },
  {
   "cell_type": "code",
   "execution_count": 530,
   "metadata": {},
   "outputs": [
    {
     "data": {
      "text/plain": [
       "array([[1., 1., 1., 1., 1.],\n",
       "       [1., 0., 0., 0., 1.],\n",
       "       [1., 0., 9., 0., 1.],\n",
       "       [1., 0., 0., 0., 1.],\n",
       "       [1., 1., 1., 1., 1.]])"
      ]
     },
     "execution_count": 530,
     "metadata": {},
     "output_type": "execute_result"
    }
   ],
   "source": [
    "original_array[1:-1, 1:-1] = middle_with_zeros\n",
    "original_array"
   ]
  },
  {
   "cell_type": "markdown",
   "metadata": {},
   "source": [
    "### NOTE : Please be careful while copying arrays"
   ]
  },
  {
   "cell_type": "code",
   "execution_count": null,
   "metadata": {},
   "outputs": [
    {
     "data": {
      "text/plain": [
       "array([100,   2,   3])"
      ]
     },
     "execution_count": 533,
     "metadata": {},
     "output_type": "execute_result"
    }
   ],
   "source": [
    "a = np.array([1, 2, 3])\n",
    "b = a # This will make b = a but also a = b and that's an issue\n",
    "b[0] = 100\n",
    "a # now a[0] will be set to 100"
   ]
  },
  {
   "cell_type": "markdown",
   "metadata": {},
   "source": [
    "#### Using copy function to avoid the above issue"
   ]
  },
  {
   "cell_type": "code",
   "execution_count": 539,
   "metadata": {},
   "outputs": [
    {
     "name": "stdout",
     "output_type": "stream",
     "text": [
      "a is [1 2 3]\n",
      "b is [100   2   3]\n"
     ]
    }
   ],
   "source": [
    "a = np.array([1, 2, 3])\n",
    "b = a.copy()\n",
    "b[0] = 100\n",
    "print(f'a is {a}')\n",
    "print(f'b is {b}')"
   ]
  },
  {
   "cell_type": "markdown",
   "metadata": {},
   "source": [
    "### Mathematics"
   ]
  },
  {
   "cell_type": "code",
   "execution_count": null,
   "metadata": {},
   "outputs": [
    {
     "data": {
      "text/plain": [
       "array([3, 4, 5, 6])"
      ]
     },
     "execution_count": 540,
     "metadata": {},
     "output_type": "execute_result"
    }
   ],
   "source": [
    "a = np.array([1, 2 ,3 ,4])"
   ]
  },
  {
   "cell_type": "code",
   "execution_count": 543,
   "metadata": {},
   "outputs": [
    {
     "data": {
      "text/plain": [
       "array([3, 4, 5, 6])"
      ]
     },
     "execution_count": 543,
     "metadata": {},
     "output_type": "execute_result"
    }
   ],
   "source": [
    "a + 2"
   ]
  },
  {
   "cell_type": "code",
   "execution_count": 541,
   "metadata": {},
   "outputs": [
    {
     "data": {
      "text/plain": [
       "array([-1,  0,  1,  2])"
      ]
     },
     "execution_count": 541,
     "metadata": {},
     "output_type": "execute_result"
    }
   ],
   "source": [
    "a - 2"
   ]
  },
  {
   "cell_type": "code",
   "execution_count": 542,
   "metadata": {},
   "outputs": [
    {
     "data": {
      "text/plain": [
       "array([2, 4, 6, 8])"
      ]
     },
     "execution_count": 542,
     "metadata": {},
     "output_type": "execute_result"
    }
   ],
   "source": [
    "a  * 2"
   ]
  },
  {
   "cell_type": "code",
   "execution_count": 544,
   "metadata": {},
   "outputs": [
    {
     "data": {
      "text/plain": [
       "array([0.5, 1. , 1.5, 2. ])"
      ]
     },
     "execution_count": 544,
     "metadata": {},
     "output_type": "execute_result"
    }
   ],
   "source": [
    "a / 2"
   ]
  },
  {
   "cell_type": "code",
   "execution_count": 548,
   "metadata": {},
   "outputs": [
    {
     "data": {
      "text/plain": [
       "array([2, 4, 2, 4])"
      ]
     },
     "execution_count": 548,
     "metadata": {},
     "output_type": "execute_result"
    }
   ],
   "source": [
    "b = np.array([2, 4, 2, 4])\n",
    "b"
   ]
  },
  {
   "cell_type": "code",
   "execution_count": 549,
   "metadata": {},
   "outputs": [
    {
     "data": {
      "text/plain": [
       "array([3, 6, 5, 8])"
      ]
     },
     "execution_count": 549,
     "metadata": {},
     "output_type": "execute_result"
    }
   ],
   "source": [
    "a + b"
   ]
  },
  {
   "cell_type": "code",
   "execution_count": 553,
   "metadata": {},
   "outputs": [
    {
     "name": "stdout",
     "output_type": "stream",
     "text": [
      "[ 0.84147098  0.90929743  0.14112001 -0.7568025 ]\n",
      "[ 0.54030231 -0.41614684 -0.9899925  -0.65364362]\n"
     ]
    }
   ],
   "source": [
    "# Take trignometric values of the numbers\\\n",
    "print(np.sin(a))\n",
    "print(np.cos(a))\n"
   ]
  },
  {
   "cell_type": "markdown",
   "metadata": {},
   "source": [
    "##### Linear Algebra"
   ]
  },
  {
   "cell_type": "code",
   "execution_count": 554,
   "metadata": {},
   "outputs": [
    {
     "name": "stdout",
     "output_type": "stream",
     "text": [
      "[[1. 1. 1.]\n",
      " [1. 1. 1.]]\n",
      "[[2 2]\n",
      " [2 2]\n",
      " [2 2]]\n"
     ]
    },
    {
     "data": {
      "text/plain": [
       "array([[6., 6.],\n",
       "       [6., 6.]])"
      ]
     },
     "execution_count": 554,
     "metadata": {},
     "output_type": "execute_result"
    }
   ],
   "source": [
    "a = np.ones((2, 3))\n",
    "b = np.full((3, 2), 2)\n",
    "\n",
    "print(a)\n",
    "print(b)\n",
    "\n",
    "np.matmul(a, b)"
   ]
  },
  {
   "cell_type": "code",
   "execution_count": 557,
   "metadata": {},
   "outputs": [
    {
     "data": {
      "text/plain": [
       "array([[1., 0., 0.],\n",
       "       [0., 1., 0.],\n",
       "       [0., 0., 1.]])"
      ]
     },
     "execution_count": 557,
     "metadata": {},
     "output_type": "execute_result"
    }
   ],
   "source": [
    "c = np.identity(3)\n",
    "c"
   ]
  },
  {
   "cell_type": "code",
   "execution_count": 558,
   "metadata": {},
   "outputs": [
    {
     "data": {
      "text/plain": [
       "1.0"
      ]
     },
     "execution_count": 558,
     "metadata": {},
     "output_type": "execute_result"
    }
   ],
   "source": [
    "np.linalg.det(c) # Identity matrix has a determinant of 1"
   ]
  },
  {
   "cell_type": "markdown",
   "metadata": {},
   "source": [
    "#### Statistics"
   ]
  },
  {
   "cell_type": "code",
   "execution_count": 560,
   "metadata": {},
   "outputs": [
    {
     "data": {
      "text/plain": [
       "array([[1, 2, 3],\n",
       "       [4, 5, 6]])"
      ]
     },
     "execution_count": 560,
     "metadata": {},
     "output_type": "execute_result"
    }
   ],
   "source": [
    "stats = np.array([[1, 2, 3], [4, 5, 6]])\n",
    "stats"
   ]
  },
  {
   "cell_type": "code",
   "execution_count": 561,
   "metadata": {},
   "outputs": [
    {
     "data": {
      "text/plain": [
       "1"
      ]
     },
     "execution_count": 561,
     "metadata": {},
     "output_type": "execute_result"
    }
   ],
   "source": [
    "stats.min()"
   ]
  },
  {
   "cell_type": "code",
   "execution_count": 562,
   "metadata": {},
   "outputs": [
    {
     "data": {
      "text/plain": [
       "6"
      ]
     },
     "execution_count": 562,
     "metadata": {},
     "output_type": "execute_result"
    }
   ],
   "source": [
    "stats.max()"
   ]
  },
  {
   "cell_type": "code",
   "execution_count": 566,
   "metadata": {},
   "outputs": [
    {
     "data": {
      "text/plain": [
       "array([[1, 2, 3],\n",
       "       [4, 5, 6]])"
      ]
     },
     "execution_count": 566,
     "metadata": {},
     "output_type": "execute_result"
    }
   ],
   "source": [
    "stats"
   ]
  },
  {
   "cell_type": "markdown",
   "metadata": {},
   "source": [
    "#### Min and max according to vertical or horizontal axis represented by 0 or 1"
   ]
  },
  {
   "cell_type": "code",
   "execution_count": 564,
   "metadata": {},
   "outputs": [
    {
     "data": {
      "text/plain": [
       "array([1, 2, 3])"
      ]
     },
     "execution_count": 564,
     "metadata": {},
     "output_type": "execute_result"
    }
   ],
   "source": [
    "stats.min(axis=0) # so basically among [1, 2, 3] and [4, 5, 6] the former is minimum"
   ]
  },
  {
   "cell_type": "code",
   "execution_count": 565,
   "metadata": {},
   "outputs": [
    {
     "data": {
      "text/plain": [
       "array([3, 6])"
      ]
     },
     "execution_count": 565,
     "metadata": {},
     "output_type": "execute_result"
    }
   ],
   "source": [
    "stats.max(axis=1)"
   ]
  },
  {
   "cell_type": "markdown",
   "metadata": {},
   "source": [
    "#### Reorganising arrays"
   ]
  },
  {
   "cell_type": "markdown",
   "metadata": {},
   "source": [
    "#### Reshaping arrays.....\n",
    "Arrays can be re-shaped based on the number of elements it contains."
   ]
  },
  {
   "cell_type": "code",
   "execution_count": 574,
   "metadata": {},
   "outputs": [
    {
     "name": "stdout",
     "output_type": "stream",
     "text": [
      "(2, 4)\n",
      "[[1 2]\n",
      " [3 4]\n",
      " [5 6]\n",
      " [7 8]]\n"
     ]
    }
   ],
   "source": [
    "before = np.array([[1, 2, 3, 4], [5, 6, 7, 8]])\n",
    "print(before.shape)\n",
    "\n",
    "after = before.reshape(4,2)\n",
    "print(after)"
   ]
  },
  {
   "cell_type": "markdown",
   "metadata": {},
   "source": [
    "#### Stacking arrays vertically"
   ]
  },
  {
   "cell_type": "code",
   "execution_count": 576,
   "metadata": {},
   "outputs": [
    {
     "data": {
      "text/plain": [
       "array([[1, 2, 3, 4],\n",
       "       [5, 6, 7, 8],\n",
       "       [1, 2, 3, 4],\n",
       "       [5, 6, 7, 8]])"
      ]
     },
     "execution_count": 576,
     "metadata": {},
     "output_type": "execute_result"
    }
   ],
   "source": [
    "v1 = np.array([1, 2, 3, 4])\n",
    "v2 = np.array([5, 6, 7, 8])\n",
    "\n",
    "np.vstack([v1, v2, v1, v2])"
   ]
  },
  {
   "cell_type": "markdown",
   "metadata": {},
   "source": [
    "#### Stacking arrays horizontally"
   ]
  },
  {
   "cell_type": "code",
   "execution_count": 577,
   "metadata": {},
   "outputs": [
    {
     "data": {
      "text/plain": [
       "array([  2,   3,   4,   3,  43,  35, 234,  33,  43,  35, 234,  33,   2,\n",
       "         3,   4,   3,   2,   3,   4,   3,   2,   3,   4,   3])"
      ]
     },
     "execution_count": 577,
     "metadata": {},
     "output_type": "execute_result"
    }
   ],
   "source": [
    "h1 = np.array([2, 3, 4, 3])\n",
    "h2 = np.array([43, 35, 234, 33])\n",
    "\n",
    "np.hstack([h1, h2, h2, h1, h1, h1])"
   ]
  },
  {
   "cell_type": "markdown",
   "metadata": {},
   "source": [
    "### Miscellaneous\n",
    "##### Load Data from file"
   ]
  },
  {
   "cell_type": "code",
   "execution_count": 579,
   "metadata": {},
   "outputs": [
    {
     "name": "stdout",
     "output_type": "stream",
     "text": [
      "[2605 2694 4970 3362 1878 9722 8219 4413 6959 3199 7015 9073  661 6881\n",
      " 9460 8000 2361 6221 1286 9075 6742 7230  903 3209 6854  867 3550 8146\n",
      "  548 2848 3298 9093 5727 1921 5747 5795 3764 3227 9076 8071 9612 3966\n",
      " 8031 5172 8504 6078 1371 1449 4615 9296 3710 9435  474 2269 1513 4453\n",
      " 6310 9906  593 6281 7970 7063 1322 3644 7689 6232 1749 8935 5016 5233\n",
      " 7408 1155 4649 7750 5928 9623  238 6880 2058 9200 9928 2143 9503 4841\n",
      " 8699 1178 2259 6973 4122 7623 3047 3489 6983 1410 5051 7617 8492 7610\n",
      " 6179 5916 8805 1820 9308 8052 6485 4161 9748 8667 5295 2730 2483   41\n",
      " 2136 5811 7527 5933  987  411 1298 1783 2122 9568 9853 5598 6002 2637\n",
      " 9925 9030 1940 7611 3259 9453 8000 8665 4461 4558 5560 3657 5365 2064\n",
      " 9129   26 3776 1225 2783 8585 6980 5117 9276 2266 1924 8892 8444 5598\n",
      " 7710 5577 8237 9734  123 9129 4762 8092  690 8677 9815 6029 3422 1388\n",
      " 9272 5962 9066 1059 6266 8332 3629 7749 9264 6383 7741 9599 7513 2578\n",
      " 5846 3791 5413 9971  126 5952 1195 1236 7228 1998  578 5114 4432 3697\n",
      " 7736  191 1120  590  243 2934 7015 3696 2713 7660 5368 6022 6995 4196\n",
      " 4638 8139  393 3357 9900 1905 9676 4381 6422 1589 4258 6329 2685 9487\n",
      " 4165 4150 2988 7539 4863 3936 4438 8298 4164 3491 1094 4516 5266 8423\n",
      " 3722 4585 4567 6150 3482 5018 2786  491 6425 8088 4814 8943  582 9588\n",
      " 6786  642 5522 4575 5842 5924 5854 3761 3767 9105  372 2007 4239 1898\n",
      " 6014 2803 3290 8844 9138 4624 9025 8814 7716 7356 5967 3356 1404 6636\n",
      "  716 7665 9902  751 3307 6304   86 1366  218 1493 1097 4760 5253 9405\n",
      " 1618 7415  559 9111 8615 6866 7814 2557 7944 7432 7457 5325 3934 3985\n",
      " 8592 8409 5603 6510 2209 7856 4808 8313 1390 7766 8747  927 8755  451\n",
      " 9996 9171 8879 7279 6840 7969 8968 9586 1480 1346 8843 9282 8041 6727\n",
      " 6820 1420 2059 3204 5828 2209 9014  160 1160 3730 5671 9234 4866 6378\n",
      " 2233 8411 7799 3350  826  813 3224 7329 2317 2434 7265 8124  947 3367\n",
      " 8479 7933 3992 5674 9493 8405 2820 3146 6130 8194 1676 7679 7800  582\n",
      " 3253  785 3192  148 3346 6115 7841 2219 8795 7495 6002 6152 9361 4370\n",
      " 1879 6632 6715  735 2099 7743 7539 8718 1097  794 3512  123 8363 4690\n",
      " 3560 5359 9193  667 9991 9580 7155 3928 9872 5328 3324 8601 5867 3140\n",
      " 7128 2791 9880 7831 5095 8076 7300 9912 7433  313 7707 9513 1640 2917\n",
      " 6576 2663 3732 4266 2663 6730 1789 9115 4543  136 9189 8612 1470 3534\n",
      " 1275 9896 6553 4466 7600 1197 8578 2988 8704 1261  793 7030 4229 8844\n",
      " 5261  438 4688 7436 8030 3165 6827 1390 8457 9256 4361 9027 5152 4954\n",
      " 5860 4890 3628 7310 9663 2409 7451 5217 4390 7875  425 7601 9800 6720\n",
      " 3980 2719 8809 1798 2145 5836 6989 2874 4613 9847  468 2469 2092 1732\n",
      " 5967 2907 2048 3853 5632 4940 9225 1520 8034  735 3428 1854 8595 6871\n",
      " 4020 2756 2692 9109 9480 3463 2253 7340 7972 1729 5398 4519 3478 2654\n",
      " 3242 3915 7806 2380 4167 3584 4384 5455 5815 7922 3100 8066 3264 3661\n",
      " 6396 8965 6160 8898 2648 6041 8068 4863 4202 1745 8864  896 2548 7458\n",
      "  686 4758 8805 1457 3920 8288 9369 5323 2918 2336 1893 9749 3072 9053\n",
      " 2128 6473  594 5775 7996 1807 5171 3314 3119 7097 8484 3081  748 2068\n",
      " 5340 9684 6219 3382 8205  682 2600    4 2943 3849 9429 6836   92 1381\n",
      " 9178 3797 2401  119  188 6296 4198 7076 7378 7059 5644 1391 8884 4901\n",
      " 9939 5583 6486 2169  398 4678 7519 6522 6340 9478 8901 5795 4335 4233\n",
      "  414 2179 2939 2516 3147 3661 6534 5868 7784 4771 8161 6612  435 7708\n",
      " 8767 5789 7276 2172 1031 9848 6828 8752 8437 6324 4495 2142 2861 3618\n",
      " 2664  398 7703 3116 1601 2381 1320 7443 5075 2832 7784 7120 6477 4905\n",
      " 1239 2507 3540 7818 3255 8774 5985 6318  919 9071 9500 7621 5462 3867\n",
      " 5286 4765 2116 7660 5262 1299 8666 9171 1828 6492 8110 8944 9020 7081\n",
      " 5761 6083 2318 6477 9917  478 8993 5274 2413 1762 1230  138 7290 9474\n",
      " 1792 3360 4371 3888 8081 8485 6581 9518 7829 3769 6514 1953 5158 2362\n",
      " 1592 7208 2896 7268 1329 4771 9715 5780 1717 1593 7819 4340 6459 1278\n",
      " 1572 8732 4413 1737 7558 8917  901 6193 8371 1168 5916 2237 9878  533\n",
      " 1639 5975 8013 8066  397 4012 5644  545 7127 9542 2463 2876 6773 6154\n",
      " 6638  890 8180 3496 3318 1448 5802 1516 9522 1896 4012 5453 4928 2986\n",
      " 6556 1193 8568 9675 9064  408  743 1722 2595 1889 9079 6934 4621 2278\n",
      " 8422 3547 5843 1228 4347 5916 2164 3993 3345    2 5413 7002 5176  967\n",
      " 7217 5827  378 6274 9178 9123 2396 9960 2871 5901 1598 4649 7495 2189\n",
      " 4361  884 9028 5292 6103 6747 1312 3721 7576 2347 6533 7910 1001  700\n",
      " 4741  331 5447 7039 9547 4362 3868 6133 3580 2994  716 6501 3156 4518\n",
      " 9239 3233 9329 2751 5334 1995 2252 9440 6034 9542 7259 8318 2822 3548\n",
      " 7182 6295 2412 7511  736 3670 6632 8747 3855 5644 9462 4442 5670 1495\n",
      "  524 2225 9610 1479 6189 5951 9573 8223 2823 3555 3188 1436 5401 6010\n",
      " 3588 5178 6070 6495 9878 5188  250 6660 8649  798 3252 3297 8501 2675\n",
      " 1328 9099 4622 8299 8216  907 6817 2183  152 3940 1808 7583 2980  568\n",
      " 6817 1197 3288 4417 6091 7963 6571 5476 8248  810 2016  699 8562 1022\n",
      " 9424 1176 7487 4618 4563 7881 2558 7281 4729 9326 9606 9668 7907 5948\n",
      " 5711 1821 6616 2477 6255 1826 9308  977 1733 3337 7820 4787 6129 5444\n",
      " 9949 6110 4454 3637   40 8461 9469 7859 6067 3083 6635  975 8875 7518\n",
      "  880 8218 6272 1902 4175 3154 9374 9723 3980 7841 1496 9137  244 2248\n",
      " 4356 9861  162 3482 3358 7485]\n"
     ]
    }
   ],
   "source": [
    "data = np.genfromtxt('random_integers.txt', delimiter=' ')\n",
    "data = data.astype('int32')\n",
    "print(data)"
   ]
  },
  {
   "cell_type": "code",
   "execution_count": 587,
   "metadata": {},
   "outputs": [
    {
     "data": {
      "text/plain": [
       "array([4970, 9722, 8219, 6959, 7015, 9073, 6881, 9460, 8000, 6221, 9075,\n",
       "       6742, 7230, 6854, 8146, 9093, 5727, 5747, 5795, 9076, 8071, 9612,\n",
       "       8031, 5172, 8504, 6078, 4615, 9296, 9435, 6310, 9906, 6281, 7970,\n",
       "       7063, 7689, 6232, 8935, 5016, 5233, 7408, 4649, 7750, 5928, 9623,\n",
       "       6880, 9200, 9928, 9503, 4841, 8699, 6973, 7623, 6983, 5051, 7617,\n",
       "       8492, 7610, 6179, 5916, 8805, 9308, 8052, 6485, 9748, 8667, 5295,\n",
       "       5811, 7527, 5933, 9568, 9853, 5598, 6002, 9925, 9030, 7611, 9453,\n",
       "       8000, 8665, 5560, 5365, 9129, 8585, 6980, 5117, 9276, 8892, 8444,\n",
       "       5598, 7710, 5577, 8237, 9734, 9129, 4762, 8092, 8677, 9815, 6029,\n",
       "       9272, 5962, 9066, 6266, 8332, 7749, 9264, 6383, 7741, 9599, 7513,\n",
       "       5846, 5413, 9971, 5952, 7228, 5114, 7736, 7015, 7660, 5368, 6022,\n",
       "       6995, 4638, 8139, 9900, 9676, 6422, 6329, 9487, 7539, 4863, 8298,\n",
       "       5266, 8423, 6150, 5018, 6425, 8088, 4814, 8943, 9588, 6786, 5522,\n",
       "       5842, 5924, 5854, 9105, 6014, 8844, 9138, 4624, 9025, 8814, 7716,\n",
       "       7356, 5967, 6636, 7665, 9902, 6304, 4760, 5253, 9405, 7415, 9111,\n",
       "       8615, 6866, 7814, 7944, 7432, 7457, 5325, 8592, 8409, 5603, 6510,\n",
       "       7856, 4808, 8313, 7766, 8747, 8755, 9996, 9171, 8879, 7279, 6840,\n",
       "       7969, 8968, 9586, 8843, 9282, 8041, 6727, 6820, 5828, 9014, 5671,\n",
       "       9234, 4866, 6378, 8411, 7799, 7329, 7265, 8124, 8479, 7933, 5674,\n",
       "       9493, 8405, 6130, 8194, 7679, 7800, 6115, 7841, 8795, 7495, 6002,\n",
       "       6152, 9361, 6632, 6715, 7743, 7539, 8718, 8363, 4690, 5359, 9193,\n",
       "       9991, 9580, 7155, 9872, 5328, 8601, 5867, 7128, 9880, 7831, 5095,\n",
       "       8076, 7300, 9912, 7433, 7707, 9513, 6576, 6730, 9115, 9189, 8612,\n",
       "       9896, 6553, 7600, 8578, 8704, 7030, 8844, 5261, 4688, 7436, 8030,\n",
       "       6827, 8457, 9256, 9027, 5152, 4954, 5860, 4890, 7310, 9663, 7451,\n",
       "       5217, 7875, 7601, 9800, 6720, 8809, 5836, 6989, 4613, 9847, 5967,\n",
       "       5632, 4940, 9225, 8034, 8595, 6871, 9109, 9480, 7340, 7972, 5398,\n",
       "       7806, 5455, 5815, 7922, 8066, 6396, 8965, 6160, 8898, 6041, 8068,\n",
       "       4863, 8864, 7458, 4758, 8805, 8288, 9369, 5323, 9749, 9053, 6473,\n",
       "       5775, 7996, 5171, 7097, 8484, 5340, 9684, 6219, 8205, 9429, 6836,\n",
       "       9178, 6296, 7076, 7378, 7059, 5644, 8884, 4901, 9939, 5583, 6486,\n",
       "       4678, 7519, 6522, 6340, 9478, 8901, 5795, 6534, 5868, 7784, 4771,\n",
       "       8161, 6612, 7708, 8767, 5789, 7276, 9848, 6828, 8752, 8437, 6324,\n",
       "       7703, 7443, 5075, 7784, 7120, 6477, 4905, 7818, 8774, 5985, 6318,\n",
       "       9071, 9500, 7621, 5462, 5286, 4765, 7660, 5262, 8666, 9171, 6492,\n",
       "       8110, 8944, 9020, 7081, 5761, 6083, 6477, 9917, 8993, 5274, 7290,\n",
       "       9474, 8081, 8485, 6581, 9518, 7829, 6514, 5158, 7208, 7268, 4771,\n",
       "       9715, 5780, 7819, 6459, 8732, 7558, 8917, 6193, 8371, 5916, 9878,\n",
       "       5975, 8013, 8066, 5644, 7127, 9542, 6773, 6154, 6638, 8180, 5802,\n",
       "       9522, 5453, 4928, 6556, 8568, 9675, 9064, 9079, 6934, 4621, 8422,\n",
       "       5843, 5916, 5413, 7002, 5176, 7217, 5827, 6274, 9178, 9123, 9960,\n",
       "       5901, 4649, 7495, 9028, 5292, 6103, 6747, 7576, 6533, 7910, 4741,\n",
       "       5447, 7039, 9547, 6133, 6501, 9239, 9329, 5334, 9440, 6034, 9542,\n",
       "       7259, 8318, 7182, 6295, 7511, 6632, 8747, 5644, 9462, 5670, 9610,\n",
       "       6189, 5951, 9573, 8223, 5401, 6010, 5178, 6070, 6495, 9878, 5188,\n",
       "       6660, 8649, 8501, 9099, 4622, 8299, 8216, 6817, 7583, 6817, 6091,\n",
       "       7963, 6571, 5476, 8248, 8562, 9424, 7487, 4618, 7881, 7281, 4729,\n",
       "       9326, 9606, 9668, 7907, 5948, 5711, 6616, 6255, 9308, 7820, 4787,\n",
       "       6129, 5444, 9949, 6110, 8461, 9469, 7859, 6067, 6635, 8875, 7518,\n",
       "       8218, 6272, 9374, 9723, 7841, 9137, 9861, 7485], dtype=int32)"
      ]
     },
     "execution_count": 587,
     "metadata": {},
     "output_type": "execute_result"
    }
   ],
   "source": [
    "data[data > 4593]"
   ]
  },
  {
   "cell_type": "code",
   "execution_count": 589,
   "metadata": {},
   "outputs": [
    {
     "data": {
      "text/plain": [
       "True"
      ]
     },
     "execution_count": 589,
     "metadata": {},
     "output_type": "execute_result"
    }
   ],
   "source": [
    "np.any(data > 4593, axis=0)"
   ]
  },
  {
   "cell_type": "code",
   "execution_count": 592,
   "metadata": {},
   "outputs": [
    {
     "data": {
      "text/plain": [
       "array([4970, 4615, 4649, 4841, 4762, 4638, 4863, 4814, 4624, 4760, 4808,\n",
       "       4866, 4690, 4688, 4954, 4890, 4613, 4940, 4863, 4758, 4901, 4678,\n",
       "       4771, 4905, 4765, 4771, 4928, 4621, 4649, 4741, 4622, 4618, 4729,\n",
       "       4787], dtype=int32)"
      ]
     },
     "execution_count": 592,
     "metadata": {},
     "output_type": "execute_result"
    }
   ],
   "source": [
    "data[((data > 4593) & (data < 5000))]"
   ]
  },
  {
   "cell_type": "markdown",
   "metadata": {},
   "source": [
    "![Alt text](./get_the_rows_and_columns.png)"
   ]
  },
  {
   "cell_type": "markdown",
   "metadata": {},
   "source": [
    "# How to get values from upper image\n",
    "array[2:4, 0:2]\n",
    "array[0:4, 1:-1]\n",
    "array[[0, 4, 5], 3:]"
   ]
  },
  {
   "cell_type": "code",
   "execution_count": null,
   "metadata": {},
   "outputs": [],
   "source": []
  }
 ],
 "metadata": {
  "kernelspec": {
   "display_name": "base",
   "language": "python",
   "name": "python3"
  },
  "language_info": {
   "codemirror_mode": {
    "name": "ipython",
    "version": 3
   },
   "file_extension": ".py",
   "mimetype": "text/x-python",
   "name": "python",
   "nbconvert_exporter": "python",
   "pygments_lexer": "ipython3",
   "version": "3.12.7"
  }
 },
 "nbformat": 4,
 "nbformat_minor": 2
}
